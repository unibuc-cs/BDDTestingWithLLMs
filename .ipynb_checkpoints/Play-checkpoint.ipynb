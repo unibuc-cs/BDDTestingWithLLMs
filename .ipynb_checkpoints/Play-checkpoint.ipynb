{
 "cells": [
  {
   "cell_type": "code",
   "execution_count": 1,
   "id": "29744400-5793-46f5-b69e-efabcdcfe8e0",
   "metadata": {
    "ExecuteTime": {
     "end_time": "2024-09-08T07:40:56.677366Z",
     "start_time": "2024-09-08T07:40:56.673479Z"
    }
   },
   "outputs": [
    {
     "name": "stdout",
     "output_type": "stream",
     "text": [
      "/mnt/c/Users/cipri/OneDrive - University of Bucharest, Faculty of Mathematics and Computer Science/WORK_PROGRESS/BDD and LLM/Our\n"
     ]
    }
   ],
   "source": [
    "import os\n",
    "print(os.getcwd())\n",
    "#os.chdir(\"./LLM\")\n",
    "#print(os.getcwd())"
   ]
  },
  {
   "cell_type": "code",
   "execution_count": 2,
   "id": "6cce576a-9b88-48ef-a9ed-595b3430a4ea",
   "metadata": {
    "ExecuteTime": {
     "end_time": "2024-09-08T07:40:39.328755Z",
     "start_time": "2024-09-08T07:40:36.925274Z"
    }
   },
   "outputs": [],
   "source": [
    "\n",
    "from LLM.LLMSupport import *\n",
    "import pathlib\n",
    "import os\n",
    "from BDDTestingLLM_args import parse_args\n",
    "logging.getLogger().setLevel(logging.INFO)\n"
   ]
  },
  {
   "cell_type": "code",
   "execution_count": 3,
   "id": "ee724e82-51f9-4df3-a293-fcb9d9eeb917",
   "metadata": {
    "ExecuteTime": {
     "end_time": "2024-09-08T07:40:39.793576Z",
     "start_time": "2024-09-08T07:40:39.779564Z"
    }
   },
   "outputs": [
    {
     "name": "stdout",
     "output_type": "stream",
     "text": [
      "namespace(config_name='', tokenizer_name='', model_name_or_path='meta-llama/Meta-Llama-3.1-8B-Instruct', pretrained_peft_adapter_dir='', train_file='LLM/Data/ex_tool_call_train_data.json', validation_file='LLM/Data/ex_tool_call_train_data.json', trust_remote_code=True, use_slow_tokenizer=False, use_4bit_quant=False, use_4bit_double_quant=False, use_8bit_quant=False, dataset_useonline=False, validation_split_percentage=5, preprocessing_num_workers=1, resume_from_checkpoint=False, generation_params={'device_map': 'auto', 'max_new_tokens': 4096, 'num_return_sequences': 1, 'repetition_penalty': 1.0, 'length_penalty': 1, 'min_length': None, 'do_sample': False, 'temperature': 0.0, 'top_p': 1.0, 'do_train': False, 'do_eval': True})\n"
     ]
    }
   ],
   "source": [
    "args = parse_args(with_json_args=pathlib.Path(os.environ[\"LLM_PARAMS_PATH_INFERENCE\"]))\n",
    "print(args)"
   ]
  },
  {
   "cell_type": "code",
   "execution_count": 4,
   "id": "f86f591f-f7e8-40c6-855c-b2bf9a492115",
   "metadata": {
    "ExecuteTime": {
     "end_time": "2024-09-08T07:23:41.767644Z",
     "start_time": "2024-09-08T07:23:41.759937Z"
    }
   },
   "outputs": [
    {
     "data": {
      "application/vnd.jupyter.widget-view+json": {
       "model_id": "754639d1efd04ab298e9f60df4585540",
       "version_major": 2,
       "version_minor": 0
      },
      "text/plain": [
       "Loading checkpoint shards:   0%|          | 0/4 [00:00<?, ?it/s]"
      ]
     },
     "metadata": {},
     "output_type": "display_data"
    },
    {
     "data": {
      "application/vnd.jupyter.widget-view+json": {
       "model_id": "54fa3f90747140e9a28de313a815e06b",
       "version_major": 2,
       "version_minor": 0
      },
      "text/plain": [
       "Loading checkpoint shards:   0%|          | 0/4 [00:00<?, ?it/s]"
      ]
     },
     "metadata": {},
     "output_type": "display_data"
    },
    {
     "name": "stderr",
     "output_type": "stream",
     "text": [
      "Some parameters are on the meta device device because they were offloaded to the cpu.\n"
     ]
    },
    {
     "name": "stdout",
     "output_type": "stream",
     "text": [
      "trainable params: 6,815,744 || all params: 8,037,076,992 || trainable%: 0.08480376642881861\n",
      "Model: None\n"
     ]
    }
   ],
   "source": [
    "cg = BDDTestingLLM(args)\n",
    "cg.prepare_inference(push_to_hub=False)"
   ]
  },
  {
   "cell_type": "code",
   "execution_count": 5,
   "id": "2e574f83-7dd4-44ce-a92a-a8c3b629d3b4",
   "metadata": {
    "ExecuteTime": {
     "end_time": "2024-09-08T07:24:39.473068Z",
     "start_time": "2024-09-08T07:24:39.466022Z"
    }
   },
   "outputs": [
    {
     "name": "stdout",
     "output_type": "stream",
     "text": [
      "namespace(config_name='', tokenizer_name='', model_name_or_path='meta-llama/Meta-Llama-3.1-8B-Instruct', pretrained_peft_adapter_dir='', train_file='LLM/Data/ex_tool_call_train_data.json', validation_file='LLM/Data/ex_tool_call_train_data.json', trust_remote_code=True, use_slow_tokenizer=False, use_4bit_quant=False, use_4bit_double_quant=False, use_8bit_quant=False, dataset_useonline=False, validation_split_percentage=5, preprocessing_num_workers=1, resume_from_checkpoint=False, generation_params={'device_map': 'auto', 'max_new_tokens': 4096, 'num_return_sequences': 1, 'repetition_penalty': 1.0, 'length_penalty': 1, 'min_length': None, 'do_sample': False, 'temperature': 0.0, 'top_p': 1.0, 'do_train': False, 'do_eval': True})\n"
     ]
    },
    {
     "data": {
      "application/vnd.jupyter.widget-view+json": {
       "model_id": "3434715f992e48aea2e41221ca8a22e0",
       "version_major": 2,
       "version_minor": 0
      },
      "text/plain": [
       "Generating train split: 0 examples [00:00, ? examples/s]"
      ]
     },
     "metadata": {},
     "output_type": "display_data"
    },
    {
     "data": {
      "application/vnd.jupyter.widget-view+json": {
       "model_id": "edc66dc6279e405aae72f5d63d22285e",
       "version_major": 2,
       "version_minor": 0
      },
      "text/plain": [
       "Generating validation split: 0 examples [00:00, ? examples/s]"
      ]
     },
     "metadata": {},
     "output_type": "display_data"
    },
    {
     "name": "stderr",
     "output_type": "stream",
     "text": [
      "The validation split percentage 5 or dataset size 1 is too low. Please increase it. For now the script will use the entire dataset for training and validation\n"
     ]
    },
    {
     "data": {
      "application/vnd.jupyter.widget-view+json": {
       "model_id": "632d7e82b9ca45eab92649474424da3c",
       "version_major": 2,
       "version_minor": 0
      },
      "text/plain": [
       "Running a formatting operation on the dataset:   0%|          | 0/1 [00:00<?, ? examples/s]"
      ]
     },
     "metadata": {},
     "output_type": "display_data"
    },
    {
     "data": {
      "application/vnd.jupyter.widget-view+json": {
       "model_id": "672c29f6e29f4c179dd5d5c08ec6c037",
       "version_major": 2,
       "version_minor": 0
      },
      "text/plain": [
       "Running a formatting operation on the dataset:   0%|          | 0/1 [00:00<?, ? examples/s]"
      ]
     },
     "metadata": {},
     "output_type": "display_data"
    }
   ],
   "source": [
    "print(cg.args)\n",
    "cg.prepare_data()"
   ]
  },
  {
   "cell_type": "code",
   "execution_count": 6,
   "id": "1efb57fe-5982-4d32-a1c5-751b9e29a048",
   "metadata": {},
   "outputs": [
    {
     "name": "stdout",
     "output_type": "stream",
     "text": [
      "243\n",
      "### Instruction:\n",
      "Given the following functions, please respond with a JSON for a function call with its proper arguments that best answers the given prompt.Respond in the format {\"name\": function name, \"parameters\": dictionary of argument name and its value}.Do not use variables.\n",
      "\n",
      "### Available functions:\n",
      "{\n",
      "    \"type\": \"function\",\n",
      "    \"function\": {\n",
      "        \"name\": \"get_current_temperature\",\n",
      "        \"description\": \"Get the current real-time temperature at a location.\",\n",
      "        \"parameters\": {\n",
      "            \"type\": \"object\",\n",
      "            \"properties\": {\n",
      "                \"location\": {\n",
      "                    \"type\": \"string\",\n",
      "                    \"description\": \"The location to get the temperature for, in the format \\\"City, Country\\\"\"\n",
      "                }\n",
      "            },\n",
      "            \"required\": [\n",
      "                \"location\"\n",
      "            ]\n",
      "        },\n",
      "        \"return\": {\n",
      "            \"type\": \"number\",\n",
      "            \"description\": \"The current temperature at the specified location in the specified units, as a float.\"\n",
      "        }\n",
      "    }\n",
      "}\n",
      "### User question: Hey, what's the temperature in Paris, right now?\n",
      " ### Answer: tool_call = {\"name\": \"get_current_temperature\", \"arguments\": {\"location\": \"Paris, France\"}}\n",
      "\n"
     ]
    }
   ],
   "source": [
    "prompt = cg.train_dataset[0]['text']\n",
    "input_ids = cg.tokenizer(prompt, return_tensors=\"pt\").to(\"cuda\")['input_ids'][0]\n",
    "#print(input_ids)\n",
    "print(len(input_ids))\n",
    "print(prompt)"
   ]
  },
  {
   "cell_type": "code",
   "execution_count": 3,
   "id": "c909bfe4-e280-4255-95d9-25818a267722",
   "metadata": {
    "ExecuteTime": {
     "end_time": "2024-09-08T07:23:50.738455Z",
     "start_time": "2024-09-08T07:23:50.730613Z"
    }
   },
   "outputs": [
    {
     "ename": "NameError",
     "evalue": "name 'cg' is not defined",
     "output_type": "error",
     "traceback": [
      "\u001b[0;31m---------------------------------------------------------------------------\u001b[0m",
      "\u001b[0;31mNameError\u001b[0m                                 Traceback (most recent call last)",
      "Cell \u001b[0;32mIn[3], line 1\u001b[0m\n\u001b[0;32m----> 1\u001b[0m cg\u001b[38;5;241m.\u001b[39mdo_inference(\u001b[38;5;124m\"\u001b[39m\u001b[38;5;124mWrite a scenario using Gherkin syntax for BDD testing a Mario like game\u001b[39m\u001b[38;5;124m\"\u001b[39m)\n",
      "\u001b[0;31mNameError\u001b[0m: name 'cg' is not defined"
     ]
    }
   ],
   "source": [
    "cg.do_inference(\"Write a scenario using Gherkin syntax for BDD testing a Mario like game\")"
   ]
  },
  {
   "cell_type": "code",
   "execution_count": 4,
   "id": "4f77e1dd-5e3d-40e2-a9b3-bd3b238a34b0",
   "metadata": {
    "ExecuteTime": {
     "end_time": "2024-09-08T07:24:07.472777Z",
     "start_time": "2024-09-08T07:24:07.465803Z"
    }
   },
   "outputs": [
    {
     "ename": "NameError",
     "evalue": "name 'cg' is not defined",
     "output_type": "error",
     "traceback": [
      "\u001b[0;31m---------------------------------------------------------------------------\u001b[0m",
      "\u001b[0;31mNameError\u001b[0m                                 Traceback (most recent call last)",
      "Cell \u001b[0;32mIn[4], line 1\u001b[0m\n\u001b[0;32m----> 1\u001b[0m cg\u001b[38;5;241m.\u001b[39mdo_inference(\u001b[38;5;124m\"\u001b[39m\u001b[38;5;124mWhat parameters are in the following behave library given step?: @given(\u001b[39m\u001b[38;5;130;01m\\\"\u001b[39;00m\u001b[38;5;124mthe car has (?P<engine_power>\u001b[39m\u001b[38;5;124m\\\u001b[39m\u001b[38;5;124md+) kw, weighs (?P<weight>\u001b[39m\u001b[38;5;124m\\\u001b[39m\u001b[38;5;124md+) kg, has a drag coefficient of (?P<drag>[\u001b[39m\u001b[38;5;124m\\\u001b[39m\u001b[38;5;124m.\u001b[39m\u001b[38;5;124m\\\u001b[39m\u001b[38;5;124md]+)\u001b[39m\u001b[38;5;130;01m\\\"\u001b[39;00m\u001b[38;5;124m)\u001b[39m\u001b[38;5;124m\"\u001b[39m)\n",
      "\u001b[0;31mNameError\u001b[0m: name 'cg' is not defined"
     ]
    }
   ],
   "source": [
    "cg.do_inference(\"What parameters are in the following behave library given step?: @given(\\\"the car has (?P<engine_power>\\d+) kw, weighs (?P<weight>\\d+) kg, has a drag coefficient of (?P<drag>[\\.\\d]+)\\\")\")"
   ]
  },
  {
   "cell_type": "code",
   "execution_count": 6,
   "id": "b44b528fb382950",
   "metadata": {
    "ExecuteTime": {
     "end_time": "2024-09-08T07:24:49.176389Z",
     "start_time": "2024-09-08T07:24:49.169243Z"
    }
   },
   "outputs": [
    {
     "ename": "NameError",
     "evalue": "name 'cg' is not defined",
     "output_type": "error",
     "traceback": [
      "\u001b[0;31m---------------------------------------------------------------------------\u001b[0m",
      "\u001b[0;31mNameError\u001b[0m                                 Traceback (most recent call last)",
      "Cell \u001b[0;32mIn[6], line 1\u001b[0m\n\u001b[0;32m----> 1\u001b[0m cg\u001b[38;5;241m.\u001b[39mtrain_data\n",
      "\u001b[0;31mNameError\u001b[0m: name 'cg' is not defined"
     ]
    }
   ],
   "source": [
    "cg.train_data"
   ]
  }
 ],
 "metadata": {
  "kernelspec": {
   "display_name": "Python 3 (ipykernel)",
   "language": "python",
   "name": "python3"
  },
  "language_info": {
   "codemirror_mode": {
    "name": "ipython",
    "version": 3
   },
   "file_extension": ".py",
   "mimetype": "text/x-python",
   "name": "python",
   "nbconvert_exporter": "python",
   "pygments_lexer": "ipython3",
   "version": "3.11.7"
  }
 },
 "nbformat": 4,
 "nbformat_minor": 5
}
