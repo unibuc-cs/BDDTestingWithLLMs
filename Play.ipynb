{
 "cells": [
  {
   "cell_type": "code",
   "execution_count": 1,
   "id": "29744400-5793-46f5-b69e-efabcdcfe8e0",
   "metadata": {
    "ExecuteTime": {
     "end_time": "2024-09-08T07:40:56.677366Z",
     "start_time": "2024-09-08T07:40:56.673479Z"
    }
   },
   "outputs": [
    {
     "name": "stdout",
     "output_type": "stream",
     "text": [
      "/mnt/c/Users/cipri/OneDrive - University of Bucharest, Faculty of Mathematics and Computer Science/WORK_PROGRESS/BDD and LLM/Our\n"
     ]
    }
   ],
   "source": [
    "import os\n",
    "print(os.getcwd())\n",
    "#os.chdir(\"./LLM\")\n",
    "#print(os.getcwd())"
   ]
  },
  {
   "cell_type": "code",
   "execution_count": 2,
   "id": "6cce576a-9b88-48ef-a9ed-595b3430a4ea",
   "metadata": {
    "ExecuteTime": {
     "end_time": "2024-09-08T07:40:39.328755Z",
     "start_time": "2024-09-08T07:40:36.925274Z"
    }
   },
   "outputs": [],
   "source": [
    "\n",
    "from LLM.LLMSupport import *\n",
    "import pathlib\n",
    "import os\n",
    "from BDDTestingLLM_args import parse_args\n",
    "logging.getLogger().setLevel(logging.INFO)\n"
   ]
  },
  {
   "cell_type": "code",
   "execution_count": 4,
   "id": "f86f591f-f7e8-40c6-855c-b2bf9a492115",
   "metadata": {
    "ExecuteTime": {
     "end_time": "2024-09-08T07:23:41.767644Z",
     "start_time": "2024-09-08T07:23:41.759937Z"
    }
   },
   "outputs": [
    {
     "data": {
      "application/vnd.jupyter.widget-view+json": {
       "model_id": "35b3b4ca40fc4cacb632ba5b430236bd",
       "version_major": 2,
       "version_minor": 0
      },
      "text/plain": [
       "Loading checkpoint shards:   0%|          | 0/4 [00:00<?, ?it/s]"
      ]
     },
     "metadata": {},
     "output_type": "display_data"
    },
    {
     "data": {
      "application/vnd.jupyter.widget-view+json": {
       "model_id": "7cf0392385d34a40a7cfc3c04bc8c72d",
       "version_major": 2,
       "version_minor": 0
      },
      "text/plain": [
       "Loading checkpoint shards:   0%|          | 0/4 [00:00<?, ?it/s]"
      ]
     },
     "metadata": {},
     "output_type": "display_data"
    },
    {
     "name": "stderr",
     "output_type": "stream",
     "text": [
      "Some parameters are on the meta device device because they were offloaded to the cpu.\n"
     ]
    },
    {
     "name": "stdout",
     "output_type": "stream",
     "text": [
      "trainable params: 6,815,744 || all params: 8,037,076,992 || trainable%: 0.08480376642881861\n",
      "Model: None\n"
     ]
    }
   ],
   "source": [
    "args = parse_args(with_json_args=pathlib.Path(os.environ[\"LLM_PARAMS_PATH_INFERENCE\"]))\n",
    "cg = BDDTestingLLM(args)\n",
    "cg.prepare_inference(push_to_hub=False)"
   ]
  },
  {
   "cell_type": "code",
   "execution_count": 5,
   "id": "2e574f83-7dd4-44ce-a92a-a8c3b629d3b4",
   "metadata": {
    "ExecuteTime": {
     "end_time": "2024-09-08T07:24:39.473068Z",
     "start_time": "2024-09-08T07:24:39.466022Z"
    }
   },
   "outputs": [
    {
     "data": {
      "application/vnd.jupyter.widget-view+json": {
       "model_id": "cffdea259e354bccb215ca1524754b24",
       "version_major": 2,
       "version_minor": 0
      },
      "text/plain": [
       "Generating train split: 0 examples [00:00, ? examples/s]"
      ]
     },
     "metadata": {},
     "output_type": "display_data"
    },
    {
     "data": {
      "application/vnd.jupyter.widget-view+json": {
       "model_id": "b70c009a1d694e69b8ce0763f9f159b8",
       "version_major": 2,
       "version_minor": 0
      },
      "text/plain": [
       "Generating validation split: 0 examples [00:00, ? examples/s]"
      ]
     },
     "metadata": {},
     "output_type": "display_data"
    },
    {
     "name": "stderr",
     "output_type": "stream",
     "text": [
      "The validation split percentage 5 or dataset size 1 is too low. Please increase it. For now the script will use the entire dataset for training and validation\n"
     ]
    },
    {
     "data": {
      "application/vnd.jupyter.widget-view+json": {
       "model_id": "05578f8775a542b788439ce5cdd3195f",
       "version_major": 2,
       "version_minor": 0
      },
      "text/plain": [
       "Running a formatting operation on the dataset:   0%|          | 0/1 [00:00<?, ? examples/s]"
      ]
     },
     "metadata": {},
     "output_type": "display_data"
    },
    {
     "data": {
      "application/vnd.jupyter.widget-view+json": {
       "model_id": "88144ac144174fd5943ce5e04db3f2f9",
       "version_major": 2,
       "version_minor": 0
      },
      "text/plain": [
       "Running a formatting operation on the dataset:   0%|          | 0/1 [00:00<?, ? examples/s]"
      ]
     },
     "metadata": {},
     "output_type": "display_data"
    }
   ],
   "source": [
    "cg.prepare_data()"
   ]
  },
  {
   "cell_type": "code",
   "execution_count": 11,
   "id": "1efb57fe-5982-4d32-a1c5-751b9e29a048",
   "metadata": {},
   "outputs": [
    {
     "name": "stderr",
     "output_type": "stream",
     "text": [
      "Setting `pad_token_id` to `eos_token_id`:128001 for open-end generation.\n"
     ]
    },
    {
     "name": "stdout",
     "output_type": "stream",
     "text": [
      "221\n",
      "{'role': 'assistant', 'content': '{\"name\": \"get_current_temperature\", \"parameters\": {\"location\": \"Paris, France\"}}'}\n"
     ]
    }
   ],
   "source": [
    "answer = cg.train_dataset[0]['text']\n",
    "\n",
    "response_template = \" ### Answer:\"\n",
    "response_idx = answer.find(response_template)\n",
    "input_prompt = answer[:response_idx + len(response_template)]\n",
    "\n",
    "input_ids = cg.tokenizer(input_prompt, return_tensors=\"pt\").to(\"cuda\")['input_ids'][0]\n",
    "#print(input_ids)\n",
    "print(len(input_ids))\n",
    "#print(input_prompt)\n",
    "\n",
    "# Next, create a chat and apply the chat template\n",
    "messages = [\n",
    "  {\"role\": \"system\", \"content\": \"You are a bot that responds to weather queries.\"},\n",
    "  {\"role\": \"user\", \"content\": \"Hey, what's the temperature in Paris now?\"}\n",
    "]\n",
    "\n",
    "messages[-1][\"content\"] = input_prompt \n",
    "outputs = cg.pipeline(\n",
    "    messages,\n",
    "    max_new_tokens=4096,\n",
    ")\n",
    "print(outputs[0][\"generated_text\"][-1])"
   ]
  },
  {
   "cell_type": "code",
   "execution_count": 13,
   "id": "c909bfe4-e280-4255-95d9-25818a267722",
   "metadata": {
    "ExecuteTime": {
     "end_time": "2024-09-08T07:23:50.738455Z",
     "start_time": "2024-09-08T07:23:50.730613Z"
    }
   },
   "outputs": [
    {
     "name": "stderr",
     "output_type": "stream",
     "text": [
      "/home/ciprian/anaconda3/lib/python3.11/site-packages/transformers/generation/configuration_utils.py:567: UserWarning: `do_sample` is set to `False`. However, `temperature` is set to `0.6` -- this flag is only used in sample-based generation modes. You should set `do_sample=True` or unset `temperature`.\n",
      "  warnings.warn(\n",
      "/home/ciprian/anaconda3/lib/python3.11/site-packages/transformers/generation/configuration_utils.py:572: UserWarning: `do_sample` is set to `False`. However, `top_p` is set to `0.9` -- this flag is only used in sample-based generation modes. You should set `do_sample=True` or unset `top_p`.\n",
      "  warnings.warn(\n",
      "Setting `pad_token_id` to `eos_token_id`:128001 for open-end generation.\n"
     ]
    },
    {
     "data": {
      "text/plain": [
       "{'role': 'assistant',\n",
       " 'content': '{\"name\": \"get_current_temperature\", \"parameters\": {\"location\": \"Paris, France\"}}'}"
      ]
     },
     "execution_count": 13,
     "metadata": {},
     "output_type": "execute_result"
    }
   ],
   "source": [
    "cg.do_inference(input_prompt, max_generated_tokens=4096, store_history=False)"
   ]
  },
  {
   "cell_type": "code",
   "execution_count": 4,
   "id": "4f77e1dd-5e3d-40e2-a9b3-bd3b238a34b0",
   "metadata": {
    "ExecuteTime": {
     "end_time": "2024-09-08T07:24:07.472777Z",
     "start_time": "2024-09-08T07:24:07.465803Z"
    }
   },
   "outputs": [
    {
     "ename": "NameError",
     "evalue": "name 'cg' is not defined",
     "output_type": "error",
     "traceback": [
      "\u001b[0;31m---------------------------------------------------------------------------\u001b[0m",
      "\u001b[0;31mNameError\u001b[0m                                 Traceback (most recent call last)",
      "Cell \u001b[0;32mIn[4], line 1\u001b[0m\n\u001b[0;32m----> 1\u001b[0m cg\u001b[38;5;241m.\u001b[39mdo_inference(\u001b[38;5;124m\"\u001b[39m\u001b[38;5;124mWhat parameters are in the following behave library given step?: @given(\u001b[39m\u001b[38;5;130;01m\\\"\u001b[39;00m\u001b[38;5;124mthe car has (?P<engine_power>\u001b[39m\u001b[38;5;124m\\\u001b[39m\u001b[38;5;124md+) kw, weighs (?P<weight>\u001b[39m\u001b[38;5;124m\\\u001b[39m\u001b[38;5;124md+) kg, has a drag coefficient of (?P<drag>[\u001b[39m\u001b[38;5;124m\\\u001b[39m\u001b[38;5;124m.\u001b[39m\u001b[38;5;124m\\\u001b[39m\u001b[38;5;124md]+)\u001b[39m\u001b[38;5;130;01m\\\"\u001b[39;00m\u001b[38;5;124m)\u001b[39m\u001b[38;5;124m\"\u001b[39m)\n",
      "\u001b[0;31mNameError\u001b[0m: name 'cg' is not defined"
     ]
    }
   ],
   "source": [
    "cg.do_inference(\"What parameters are in the following behave library given step?: @given(\\\"the car has (?P<engine_power>\\d+) kw, weighs (?P<weight>\\d+) kg, has a drag coefficient of (?P<drag>[\\.\\d]+)\\\")\")"
   ]
  },
  {
   "cell_type": "code",
   "execution_count": 6,
   "id": "b44b528fb382950",
   "metadata": {
    "ExecuteTime": {
     "end_time": "2024-09-08T07:24:49.176389Z",
     "start_time": "2024-09-08T07:24:49.169243Z"
    }
   },
   "outputs": [
    {
     "ename": "NameError",
     "evalue": "name 'cg' is not defined",
     "output_type": "error",
     "traceback": [
      "\u001b[0;31m---------------------------------------------------------------------------\u001b[0m",
      "\u001b[0;31mNameError\u001b[0m                                 Traceback (most recent call last)",
      "Cell \u001b[0;32mIn[6], line 1\u001b[0m\n\u001b[0;32m----> 1\u001b[0m cg\u001b[38;5;241m.\u001b[39mtrain_data\n",
      "\u001b[0;31mNameError\u001b[0m: name 'cg' is not defined"
     ]
    }
   ],
   "source": [
    "cg.train_data"
   ]
  }
 ],
 "metadata": {
  "kernelspec": {
   "display_name": "Python 3 (ipykernel)",
   "language": "python",
   "name": "python3"
  },
  "language_info": {
   "codemirror_mode": {
    "name": "ipython",
    "version": 3
   },
   "file_extension": ".py",
   "mimetype": "text/x-python",
   "name": "python",
   "nbconvert_exporter": "python",
   "pygments_lexer": "ipython3",
   "version": "3.11.7"
  }
 },
 "nbformat": 4,
 "nbformat_minor": 5
}
