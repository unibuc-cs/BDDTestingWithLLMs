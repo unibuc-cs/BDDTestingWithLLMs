{
 "cells": [
  {
   "cell_type": "code",
   "execution_count": 1,
   "id": "29744400-5793-46f5-b69e-efabcdcfe8e0",
   "metadata": {},
   "outputs": [
    {
     "name": "stdout",
     "output_type": "stream",
     "text": [
      "/mnt/c/Users/cipri/OneDrive - University of Bucharest, Faculty of Mathematics and Computer Science/WORK_PROGRESS/BDD and LLM/Our\n"
     ]
    }
   ],
   "source": [
    "import os\n",
    "print(os.getcwd())\n",
    "#os.chdir(\"./LLM\")"
   ]
  },
  {
   "cell_type": "code",
   "execution_count": 1,
   "id": "6cce576a-9b88-48ef-a9ed-595b3430a4ea",
   "metadata": {},
   "outputs": [],
   "source": [
    "\n",
    "from LLMSupport import *\n",
    "import pathlib\n",
    "import os\n",
    "from BDDTestingLLM_args import parse_args\n",
    "logging.getLogger().setLevel(logging.INFO)\n"
   ]
  },
  {
   "cell_type": "code",
   "execution_count": 2,
   "id": "ee724e82-51f9-4df3-a293-fcb9d9eeb917",
   "metadata": {},
   "outputs": [],
   "source": [
    "args = parse_args(with_json_args=pathlib.Path(os.environ[\"LLM_PARAMS_PATH_INFERENCE\"]))"
   ]
  },
  {
   "cell_type": "code",
   "execution_count": 3,
   "id": "f86f591f-f7e8-40c6-855c-b2bf9a492115",
   "metadata": {},
   "outputs": [
    {
     "data": {
      "application/vnd.jupyter.widget-view+json": {
       "model_id": "2f3461ce90794a0a9baae25214aa9fe1",
       "version_major": 2,
       "version_minor": 0
      },
      "text/plain": [
       "Loading checkpoint shards:   0%|          | 0/2 [00:00<?, ?it/s]"
      ]
     },
     "metadata": {},
     "output_type": "display_data"
    },
    {
     "name": "stdout",
     "output_type": "stream",
     "text": [
      "trainable params: 8,388,608 || all params: 6,746,935,296 || trainable%: 0.12433212461624295\n",
      "Model: None\n"
     ]
    }
   ],
   "source": [
    "cg = BDDTestingLLM(args)\n",
    "cg.prepare_inference(push_to_hub=False)"
   ]
  },
  {
   "cell_type": "code",
   "execution_count": 7,
   "id": "c909bfe4-e280-4255-95d9-25818a267722",
   "metadata": {},
   "outputs": [
    {
     "name": "stderr",
     "output_type": "stream",
     "text": [
      "Setting `pad_token_id` to `eos_token_id`:2 for open-end generation.\n"
     ]
    },
    {
     "name": "stdout",
     "output_type": "stream",
     "text": [
      ".\n",
      "```golang  {linenos=off}   // Scenario: Playing the first level of Super Mushroom World with no power-ups or enemies on screen, and pressing A to jump upwards once will make you go higher than normal heights when falling down from above ground (iOS)    Given I am playing \"SuperMarioWorld\"     When my character is at y position <10>      And there are not any enemy sprites in view       Then press button 'A'        Expect that after releasing this keypress within time frame '<2>' seconds         My Y coordinate should be greater then previous value by more thaan <MarioJumpHeightInPixels>. ```</s>\n",
      "<s> Write a scenario using Gherkin syntax for BDD testing a Mario like game.\n",
      "```golang  {linenos=off}   // Scenario: Playing the first level of Super Mushroom World with no power-ups or enemies on screen, and pressing A to jump upwards once will make you go higher than normal heights when falling down from above ground (iOS)    Given I am playing \"SuperMarioWorld\"     When my character is at y position <10>      And there are not any enemy sprites in view       Then press button 'A'        Expect that after releasing this keypress within time frame '<2>' seconds         My Y coordinate should be greater then previous value by more thaan <MarioJumpHeightInPixels>. ```</s>\n"
     ]
    }
   ],
   "source": [
    "cg.do_inference(\"Write a scenario using Gherkin syntax for BDD testing a Mario like game\")"
   ]
  },
  {
   "cell_type": "code",
   "execution_count": 9,
   "id": "4f77e1dd-5e3d-40e2-a9b3-bd3b238a34b0",
   "metadata": {},
   "outputs": [
    {
     "name": "stderr",
     "output_type": "stream",
     "text": [
      "Setting `pad_token_id` to `eos_token_id`:2 for open-end generation.\n"
     ]
    },
    {
     "name": "stdout",
     "output_type": "stream",
     "text": [
      "\n",
      "def getParameters(step):  # pylint: disable=redefined-outer</s>\n",
      "<s> What parameters are in the following behave library given step?: @given(\"the car has (?P<engine_power>\\d+) kw, weighs (?P<weight>\\d+) kg, has a drag coefficient of (?P<drag>[\\.\\d]+)\")\n",
      "def getParameters(step):  # pylint: disable=redefined-outer</s>\n"
     ]
    }
   ],
   "source": [
    "cg.do_inference(\"What parameters are in the following behave library given step?: @given(\\\"the car has (?P<engine_power>\\d+) kw, weighs (?P<weight>\\d+) kg, has a drag coefficient of (?P<drag>[\\.\\d]+)\\\")\")"
   ]
  },
  {
   "cell_type": "code",
   "execution_count": null,
   "id": "2e574f83-7dd4-44ce-a92a-a8c3b629d3b4",
   "metadata": {},
   "outputs": [],
   "source": []
  }
 ],
 "metadata": {
  "kernelspec": {
   "display_name": "Python 3 (ipykernel)",
   "language": "python",
   "name": "python3"
  },
  "language_info": {
   "codemirror_mode": {
    "name": "ipython",
    "version": 3
   },
   "file_extension": ".py",
   "mimetype": "text/x-python",
   "name": "python",
   "nbconvert_exporter": "python",
   "pygments_lexer": "ipython3",
   "version": "3.11.7"
  }
 },
 "nbformat": 4,
 "nbformat_minor": 5
}
