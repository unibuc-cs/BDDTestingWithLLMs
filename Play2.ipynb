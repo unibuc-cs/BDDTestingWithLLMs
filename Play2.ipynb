{
 "cells": [
  {
   "cell_type": "code",
   "execution_count": 3,
   "id": "6936b9b5d09cfdc3",
   "metadata": {},
   "outputs": [
    {
     "name": "stdout",
     "output_type": "stream",
     "text": [
      "Hello World\n"
     ]
    }
   ],
   "source": [
    "import re\n",
    "\n",
    "# Define the pattern with named groups\n",
    "pattern = r\"(?P<param1>\\w+)\\s(?P<param2>\\w+)\"\n",
    "\n",
    "# Dictionary with replacement values\n",
    "replacements = {\n",
    "    \"param1\": \"Hello\",\n",
    "    \"param2\": \"World\"\n",
    "}\n",
    "\n",
    "# Function to replace named groups\n",
    "def replace_named_groups(match):\n",
    "    group_dict = match.groupdict()\n",
    "    for key, value in group_dict.items():\n",
    "        if key in replacements:\n",
    "            group_dict[key] = replacements[key]\n",
    "    return \" \".join(group_dict.values())\n",
    "\n",
    "# Text to be processed\n",
    "text = \"foo bar\"\n",
    "\n",
    "# Perform the replacement\n",
    "result = re.sub(pattern, replace_named_groups, text)\n",
    "print(result)  # Output: Hello World"
   ]
  },
  {
   "cell_type": "code",
   "execution_count": 8,
   "id": "b8b498fb",
   "metadata": {},
   "outputs": [
    {
     "name": "stdout",
     "output_type": "stream",
     "text": [
      "@given(\"the car has 123 kw, weighs 45 kg, has a drag coefficient of 0.3\")\n"
     ]
    }
   ],
   "source": [
    "# Given a string, find the closing index of a matching parenthesis starting as open_pos\n",
    "def find_matching_parenthesis(s: str, open_pos: int) -> int:\n",
    "    stack = []\n",
    "    for i, char in enumerate(s):\n",
    "        if char == '(':\n",
    "            stack.append(i)\n",
    "        elif char == ')':\n",
    "            if stack:\n",
    "                start = stack.pop()\n",
    "                if start == open_pos:\n",
    "                    return i\n",
    "            else:\n",
    "                return -1 # Incorrect, no matching opening parenthesis\n",
    "    return -1  # Return -1 if no matching parenthesis is found\n",
    "\n",
    "# Example usage\n",
    "gherkin_step = \"@given(\\\"the car has (?P<engine_power>\\\\d+) kw, weighs (?P<weight>\\\\d+) kg, has a drag coefficient of (?P<drag>[\\\\.\\\\d]+)\\\")\"\n",
    "\n",
    "\n",
    "def fill_regex_with_dictvalues(step_regex: str, replacements: dict) -> str:\n",
    "    stack = []\n",
    "    slen = len(step_regex)\n",
    "    \n",
    "    filled_str = \"\" \n",
    "    last_unmatched = 0\n",
    "    \n",
    "    for i, char in enumerate(step_regex):\n",
    "        if char == '(':\n",
    "            remain_sz = slen - i\n",
    "            if remain_sz > 3 and step_regex[i+1] == '?' and step_regex[i+2] == 'P' and step_regex[i+3] == '<':\n",
    "                closing_index = find_matching_parenthesis(step_regex[i:], 0)            \n",
    "                assert closing_index != -1, \"Incorrect, no matching closing parenthesis\"\n",
    "                group = step_regex[i:i+closing_index+1]\n",
    "                \n",
    "                key_to_replace = group[4:group.index('>')]\n",
    "                assert key_to_replace in replacements, f\"Key {key_to_replace} not found in replacements\"\n",
    "                filled_str += step_regex[last_unmatched:i] + replacements[key_to_replace]\n",
    "                \n",
    "                last_unmatched = i+closing_index+1\n",
    "    \n",
    "    filled_str += step_regex[last_unmatched:]\n",
    "    return filled_str\n",
    "                \n",
    "                \n",
    "replacements = {\n",
    "    \"engine_power\": \"123\",\n",
    "    \"weight\": \"45\",\n",
    "    \"drag\": \"0.3\"\n",
    "}\n",
    "print(fill_regex_with_dictvalues(gherkin_step, replacements))  # Output: @given(\"the car has 123 kw, weighs 45 kg, has a drag coefficient of 0.3\")        \n",
    "\n"
   ]
  },
  {
   "cell_type": "code",
   "execution_count": 1,
   "id": "26f6795455c29369",
   "metadata": {
    "ExecuteTime": {
     "end_time": "2024-08-22T19:30:39.071279Z",
     "start_time": "2024-08-22T19:30:38.978712Z"
    },
    "collapsed": false
   },
   "outputs": [
    {
     "name": "stdout",
     "output_type": "stream",
     "text": [
      "The Levenshtein distance between 'kitten' and 'sitting' is 3\n"
     ]
    }
   ],
   "source": [
    "import Levenshtein\n",
    "# Example strings\n",
    "str1 = \"kitten\"\n",
    "str2 = \"sitting\"\n",
    "\n",
    "# Calculate Levenshtein distance\n",
    "distance = Levenshtein.distance(str1, str2)\n",
    "print(f\"The Levenshtein distance between '{str1}' and '{str2}' is {distance}\")"
   ]
  },
  {
   "cell_type": "code",
   "execution_count": 1,
   "id": "e368d42b-9d9b-4425-adcf-1e9c624cc89f",
   "metadata": {
    "ExecuteTime": {
     "end_time": "2024-08-21T07:57:52.847884Z",
     "start_time": "2024-08-21T07:56:36.219990Z"
    }
   },
   "outputs": [
    {
     "data": {
      "application/vnd.jupyter.widget-view+json": {
       "model_id": "f179b5fb22b849bf8ac597754913edfd",
       "version_major": 2,
       "version_minor": 0
      },
      "text/plain": [
       "Loading checkpoint shards:   0%|          | 0/4 [00:00<?, ?it/s]"
      ]
     },
     "metadata": {},
     "output_type": "display_data"
    }
   ],
   "source": [
    "import transformers\n",
    "import torch\n",
    "from typing import List, Dict\n",
    "from pprint import pprint\n",
    "model_id = \"meta-llama/Meta-Llama-3.1-8B-Instruct\"\n",
    "\n",
    "pipeline = transformers.pipeline(\n",
    "    \"text-generation\",\n",
    "    model=model_id,\n",
    "    model_kwargs={\"torch_dtype\": torch.bfloat16},\n",
    "    device_map=\"auto\",\n",
    ")\n",
    "\n",
    "messages = [\n",
    "    {\"role\": \"system\", \"content\": \"You are a BDD testing expert that can write scenarios using Gherkin language, Python language and behave library\"},\n",
    "    {\"role\": \"user\", \"content\": \"Show me a scenario for testing Mario like games\"},\n",
    "]\n",
    "\n",
    "terminators = [\n",
    "    pipeline.tokenizer.eos_token_id,\n",
    "    pipeline.tokenizer.convert_tokens_to_ids(\"<|eot_id|>\")\n",
    "]\n",
    "\n",
    "def inference(prompt: str, max_tokens: int ) -> str:\n",
    "    messages[-1][\"content\"] = prompt\n",
    "    outputs = pipeline(\n",
    "        messages,\n",
    "        max_new_tokens=max_tokens,\n",
    "        eos_token_id=terminators,\n",
    "        do_sample=False,\n",
    "        #temperature=0.1,\n",
    "        #top_p=0.9,\n",
    "    )\n",
    "    \n",
    "    return outputs[0][\"generated_text\"][-1]\n"
   ]
  },
  {
   "cell_type": "code",
   "execution_count": 15,
   "id": "dcae1db0",
   "metadata": {},
   "outputs": [
    {
     "name": "stderr",
     "output_type": "stream",
     "text": [
      "Setting `pad_token_id` to `eos_token_id`:128009 for open-end generation.\n"
     ]
    },
    {
     "name": "stdout",
     "output_type": "stream",
     "text": [
      "('{\\n'\n",
      " '  \"found\": true,\\n'\n",
      " '  \"step_found\": \"@given(\\\\\"the car has (?P<engine_power>\\\\\\\\d+) kw, weighs '\n",
      " '(?P<weight>\\\\\\\\d+) kg, has a drag coefficient of '\n",
      " '(?P<drag>[\\\\\\\\.\\\\\\\\d]+)\\\\\")\"\\n'\n",
      " '}')\n"
     ]
    }
   ],
   "source": [
    "USER_INPUT_STEP = \"A drag of 123, a mass of 12345 kg, and an engine of 124kw the Yoda's vehicle has!\"\n",
    "\n",
    "match_rewrite_prompt_template= \"\"\"Given the below Gherkin available steps, check if any is close the input step. If yes, return the closest step in Gherkin syntax, including the @given, @when, or @then before.\n",
    "    \n",
    "    Use Json syntax for response. Use the following format if any step can be matched:\n",
    "    {{\n",
    "      \"found\": true,\n",
    "      \"step_found\":  the step you found closest\n",
    "    }}\n",
    "    \n",
    "    If no available option is OK, then use:\n",
    "    {{\n",
    "        \"found\": false,\n",
    "    }}\n",
    "    \n",
    "    Do not provide any other information or examples.\n",
    "    \n",
    "    ### Input step: \n",
    "    {user_input_step_to_match}\n",
    "    \n",
    "    ### Available steps:\n",
    "    {user_input_available_steps}\"\"\"\n",
    "\n",
    "# TODO: take from file with source code \n",
    "USER_INPUT_AVAILABLE_STEPS = \"\"\"@given(\"the car has (?P<engine_power>\\d+) kw, weighs (?P<weight>\\d+) kg, has a drag coefficient of (?P<drag>[\\.\\d]+)\")\n",
    "    \n",
    "    @given(\"a frontal area of (?P<area>.+) m\\^2\")\n",
    "    \n",
    "    @when(\"I accelerate to (?P<speed>\\d+) km/h\")\n",
    "    \n",
    "    @then(\"the time should be within (?P<precision>[\\d\\.]+)s of (?P<time>[\\d\\.]+)s\")\n",
    "    \n",
    "    @given(\"that the car is moving at (?P<speed>\\d+) m/s\")\n",
    "    \n",
    "    @when(\"I brake at (?P<brake_force>\\d+)% force\")\n",
    "    \n",
    "    @step(\"(?P<seconds>\\d+) seconds? pass(?:es)?\")\n",
    "    \n",
    "    @then(\"I should have traveled less than (?P<distance>\\d+) meters\")\n",
    "    \n",
    "    @given(\"that the car's heading is (?P<heading>\\d+) deg\")\n",
    "    \n",
    "    @when(\"I turn (?P<direction>left|right) at a yaw rate of (?P<rate>\\d+) deg/sec for (?P<duration>\\d+) seconds\")\n",
    "    \n",
    "    @then(\"the car's heading should be (?P<heading>\\d+) deg\")\"\"\"\n",
    "    \n",
    "match_rewrite_prompt = match_rewrite_prompt_template.format(user_input_step_to_match=USER_INPUT_STEP, \n",
    "                                         user_input_available_steps=USER_INPUT_AVAILABLE_STEPS)\n",
    "\n",
    "res0 = inference(match_rewrite_prompt, 1024)[\"content\"]\n",
    "\n",
    "pprint(res0)"
   ]
  },
  {
   "cell_type": "code",
   "execution_count": 16,
   "id": "91ac489c",
   "metadata": {},
   "outputs": [
    {
     "name": "stderr",
     "output_type": "stream",
     "text": [
      "Setting `pad_token_id` to `eos_token_id`:128009 for open-end generation.\n"
     ]
    },
    {
     "name": "stdout",
     "output_type": "stream",
     "text": [
      "'{\\n  \"engine_power\": \"124 kw\",\\n  \"weight\": \"12345 kg\",\\n  \"drag\": \"123\"\\n}'\n"
     ]
    }
   ],
   "source": [
    "\n",
    "prompt_matching_params_template = \"\"\"Can you match the parameters in the input text step with the target step ?\n",
    "    \n",
    "    Example:\n",
    "    ### Input: The plane has a travel speed of 123 km/h and a lenght of 500 m\n",
    "    ### Target: @given(A plane that has a (?P<speed>\\d+) km/h, length (?P<size>\\d+) m\n",
    "    Response:\n",
    "    {{\n",
    "     \"speed\" : \"123 km/h\",\n",
    "     \"size\" : \"500 m\"\n",
    "    }}\n",
    "    \n",
    "    Your task:\n",
    "    ### Input: {user_input_step}\n",
    "    ### Target: {step_str}\n",
    "    \n",
    "    Response:    your response \n",
    "    \n",
    "    Do not write anything else.\n",
    "    \"\"\"\n",
    "    \n",
    "\n",
    "step_found_str = '@given(\"the car has (?P<engine_power>\\d+) kw, weighs (?P<weight>\\d+) kg, has a drag coefficient of (?P<drag>[\\.\\d]+)\")'\n",
    "prompt_matching_params = prompt_matching_params_template.format(user_input_step=USER_INPUT_STEP, step_str=step_found_str)\n",
    "\n",
    "\n",
    "res = inference(prompt_matching_params, 1024)[\"content\"]\n",
    "pprint(res)\n",
    "#pprint(inference(\"tell me a scenario for testing Mario like games\", 100))"
   ]
  },
  {
   "cell_type": "code",
   "execution_count": 2,
   "id": "ec7006c0-1b06-4d0a-8a65-d96007b045a6",
   "metadata": {},
   "outputs": [
    {
     "name": "stderr",
     "output_type": "stream",
     "text": [
      "/home/ciprian/anaconda3/lib/python3.11/site-packages/transformers/generation/configuration_utils.py:567: UserWarning: `do_sample` is set to `False`. However, `temperature` is set to `0.6` -- this flag is only used in sample-based generation modes. You should set `do_sample=True` or unset `temperature`.\n",
      "  warnings.warn(\n",
      "/home/ciprian/anaconda3/lib/python3.11/site-packages/transformers/generation/configuration_utils.py:572: UserWarning: `do_sample` is set to `False`. However, `top_p` is set to `0.9` -- this flag is only used in sample-based generation modes. You should set `do_sample=True` or unset `top_p`.\n",
      "  warnings.warn(\n",
      "Setting `pad_token_id` to `eos_token_id`:128009 for open-end generation.\n"
     ]
    },
    {
     "name": "stdout",
     "output_type": "stream",
     "text": [
      "'Plain result: {\\n  \"found\": false,\\n}'\n",
      "('exception occured while reading the output: Expecting property name enclosed '\n",
      " 'in double quotes: line 3 column 1 (char 20)')\n"
     ]
    },
    {
     "ename": "AttributeError",
     "evalue": "'NoneType' object has no attribute 'get'",
     "output_type": "error",
     "traceback": [
      "\u001b[0;31m---------------------------------------------------------------------------\u001b[0m",
      "\u001b[0;31mAttributeError\u001b[0m                            Traceback (most recent call last)",
      "Cell \u001b[0;32mIn[2], line 135\u001b[0m\n\u001b[1;32m    130\u001b[0m     is_matched, resp \u001b[38;5;241m=\u001b[39m _match_input_step_to_set(\u001b[38;5;28mself\u001b[39m, USER_INPUT_STEP, USER_INPUT_AVAILABLE_STEPS, max_generated_tokens\u001b[38;5;241m=\u001b[39m\u001b[38;5;241m1024\u001b[39m)\n\u001b[1;32m    132\u001b[0m     \u001b[38;5;28;01mreturn\u001b[39;00m is_matched, resp \n\u001b[0;32m--> 135\u001b[0m is_matched, resp \u001b[38;5;241m=\u001b[39m match_input_step_to_set(\u001b[38;5;28;01mNone\u001b[39;00m, USER_INPUT_STEP \u001b[38;5;241m=\u001b[39m \u001b[38;5;124m\"\u001b[39m\u001b[38;5;124mA drag of 123, a mass of 12345 kg, and an engine of 124kw the Yoda\u001b[39m\u001b[38;5;124m'\u001b[39m\u001b[38;5;124ms vehicle has!\u001b[39m\u001b[38;5;124m\"\u001b[39m)\n\u001b[1;32m    136\u001b[0m pprint(\u001b[38;5;124mf\u001b[39m\u001b[38;5;124m\"\u001b[39m\u001b[38;5;124mThe model matched the step: \u001b[39m\u001b[38;5;132;01m{\u001b[39;00mis_matched\u001b[38;5;132;01m}\u001b[39;00m\u001b[38;5;130;01m\\n\u001b[39;00m\u001b[38;5;124m \u001b[39m\u001b[38;5;130;01m\\\u001b[39;00m\n\u001b[1;32m    137\u001b[0m \u001b[38;5;124m            Response: \u001b[39m\u001b[38;5;132;01m{\u001b[39;00mresp\u001b[38;5;132;01m}\u001b[39;00m\u001b[38;5;130;01m\\n\u001b[39;00m\u001b[38;5;124m\"\u001b[39m)\n",
      "Cell \u001b[0;32mIn[2], line 130\u001b[0m, in \u001b[0;36mmatch_input_step_to_set\u001b[0;34m(self, USER_INPUT_STEP, max_generated_tokens)\u001b[0m\n\u001b[1;32m    103\u001b[0m \u001b[38;5;28;01mdef\u001b[39;00m \u001b[38;5;21mmatch_input_step_to_set\u001b[39m(\u001b[38;5;28mself\u001b[39m, \n\u001b[1;32m    104\u001b[0m                             USER_INPUT_STEP: \u001b[38;5;28mstr\u001b[39m, \n\u001b[1;32m    105\u001b[0m                             max_generated_tokens : \u001b[38;5;28mint\u001b[39m \u001b[38;5;241m=\u001b[39m \u001b[38;5;241m1024\u001b[39m) \u001b[38;5;241m-\u001b[39m\u001b[38;5;241m>\u001b[39m Tuple[\u001b[38;5;28mbool\u001b[39m, \u001b[38;5;28mstr\u001b[39m]:\n\u001b[1;32m    106\u001b[0m     \n\u001b[1;32m    107\u001b[0m     \u001b[38;5;66;03m# TODO: take from file with source code \u001b[39;00m\n\u001b[1;32m    108\u001b[0m     USER_INPUT_AVAILABLE_STEPS \u001b[38;5;241m=\u001b[39m \u001b[38;5;124m\"\"\"\u001b[39m\u001b[38;5;124m@given(\u001b[39m\u001b[38;5;124m\"\u001b[39m\u001b[38;5;124mthe car has (?P<engine_power>\u001b[39m\u001b[38;5;124m\\\u001b[39m\u001b[38;5;124md+) kw, weighs (?P<weight>\u001b[39m\u001b[38;5;124m\\\u001b[39m\u001b[38;5;124md+) kg, has a drag coefficient of (?P<drag>[\u001b[39m\u001b[38;5;124m\\\u001b[39m\u001b[38;5;124m.\u001b[39m\u001b[38;5;124m\\\u001b[39m\u001b[38;5;124md]+)\u001b[39m\u001b[38;5;124m\"\u001b[39m\u001b[38;5;124m)\u001b[39m\n\u001b[1;32m    109\u001b[0m \u001b[38;5;124m    \u001b[39m\n\u001b[1;32m    110\u001b[0m \u001b[38;5;124m    @given(\u001b[39m\u001b[38;5;124m\"\u001b[39m\u001b[38;5;124ma frontal area of (?P<area>.+) m\u001b[39m\u001b[38;5;124m\\\u001b[39m\u001b[38;5;124m^2\u001b[39m\u001b[38;5;124m\"\u001b[39m\u001b[38;5;124m)\u001b[39m\n\u001b[0;32m   (...)\u001b[0m\n\u001b[1;32m    127\u001b[0m \u001b[38;5;124m    \u001b[39m\n\u001b[1;32m    128\u001b[0m \u001b[38;5;124m    @then(\u001b[39m\u001b[38;5;124m\"\u001b[39m\u001b[38;5;124mthe car\u001b[39m\u001b[38;5;124m'\u001b[39m\u001b[38;5;124ms heading should be (?P<heading>\u001b[39m\u001b[38;5;124m\\\u001b[39m\u001b[38;5;124md+) deg\u001b[39m\u001b[38;5;124m\"\u001b[39m\u001b[38;5;124m)\u001b[39m\u001b[38;5;124m\"\"\"\u001b[39m\n\u001b[0;32m--> 130\u001b[0m     is_matched, resp \u001b[38;5;241m=\u001b[39m _match_input_step_to_set(\u001b[38;5;28mself\u001b[39m, USER_INPUT_STEP, USER_INPUT_AVAILABLE_STEPS, max_generated_tokens\u001b[38;5;241m=\u001b[39m\u001b[38;5;241m1024\u001b[39m)\n\u001b[1;32m    132\u001b[0m     \u001b[38;5;28;01mreturn\u001b[39;00m is_matched, resp\n",
      "Cell \u001b[0;32mIn[2], line 72\u001b[0m, in \u001b[0;36m_match_input_step_to_set\u001b[0;34m(self, USER_INPUT_STEP, USER_INPUT_AVAILABLE_STEPS, max_generated_tokens)\u001b[0m\n\u001b[1;32m     68\u001b[0m \u001b[38;5;28;01mexcept\u001b[39;00m \u001b[38;5;167;01mException\u001b[39;00m \u001b[38;5;28;01mas\u001b[39;00m e:\n\u001b[1;32m     69\u001b[0m     pprint(\u001b[38;5;124mf\u001b[39m\u001b[38;5;124m\"\u001b[39m\u001b[38;5;124mexception occured while reading the output: \u001b[39m\u001b[38;5;132;01m{\u001b[39;00me\u001b[38;5;132;01m}\u001b[39;00m\u001b[38;5;124m\"\u001b[39m)\n\u001b[0;32m---> 72\u001b[0m step_found_str \u001b[38;5;241m=\u001b[39m res_json\u001b[38;5;241m.\u001b[39mget(\u001b[38;5;124m\"\u001b[39m\u001b[38;5;124mstep_found\u001b[39m\u001b[38;5;124m\"\u001b[39m, \u001b[38;5;28;01mNone\u001b[39;00m)\n\u001b[1;32m     74\u001b[0m \u001b[38;5;28;01mif\u001b[39;00m step_found_str \u001b[38;5;129;01mis\u001b[39;00m \u001b[38;5;129;01mnot\u001b[39;00m \u001b[38;5;28;01mNone\u001b[39;00m:\n\u001b[1;32m     75\u001b[0m     prompt_matching_params \u001b[38;5;241m=\u001b[39m prompt_matching_params_template\u001b[38;5;241m.\u001b[39mformat(user_input_step\u001b[38;5;241m=\u001b[39mUSER_INPUT_STEP, step_str\u001b[38;5;241m=\u001b[39mstep_found_str)\n",
      "\u001b[0;31mAttributeError\u001b[0m: 'NoneType' object has no attribute 'get'"
     ]
    }
   ],
   "source": [
    "USE_DEBUG = False \n",
    "from typing import Union, Tuple\n",
    "\n",
    "# Takes an input step in natural language and tries to match against a set of available input steps in a Gherkin file.\n",
    "# Two steps are used in the process:\n",
    "    # Step 1: try to find the closest in terms of matching\n",
    "    # Step 2: try to match parameters. Report the error if not succeeded\n",
    "def _match_input_step_to_set(self, \n",
    "                            USER_INPUT_STEP: str, \n",
    "                            USER_INPUT_AVAILABLE_STEPS: str,\n",
    "                            max_generated_tokens : int = 1024) -> Tuple[bool, str]:\n",
    "    \n",
    "    match_rewrite_prompt_template= \"\"\"Given the below Gherkin available steps, check if any can match the input step. \n",
    "    \n",
    "    Use Json syntax for response. Use the following format if any step can be matched:\n",
    "    {{\n",
    "      \"found\": true,\n",
    "      \"step_found\":  the step you found closest\n",
    "    }}\n",
    "    \n",
    "    If no available option is OK, then use:\n",
    "    {{\n",
    "        \"found\": false,\n",
    "    }}\n",
    "    \n",
    "    Do not provide any other information or examples.\n",
    "    \n",
    "    ### Input step: \n",
    "    {user_input_step_to_match}\n",
    "    \n",
    "    ### Available steps:\n",
    "    {user_input_available_steps}\"\"\"\n",
    "    \n",
    "    prompt_matching_params_template = \"\"\"Can you match the parameters in the input text step with the target step ?\n",
    "    \n",
    "    Example:\n",
    "    ### Input: The plane has a travel speed of 123 km/h and a lenght of 500 m\n",
    "    ### Target: @given(A plane that has a (?P<speed>\\d+) km/h, length (?P<size>\\d+) m\n",
    "    Response:\n",
    "    {{\n",
    "     \"speed\" : \"123 km/h\",\n",
    "     \"size\" : \"500 m\"\n",
    "    }}\n",
    "    \n",
    "    Your task:\n",
    "    ### Input: {user_input_step}\n",
    "    ### Target: {step_str}\n",
    "    \n",
    "    Response:    your response \n",
    "    \n",
    "    Do not write anything else.\n",
    "    \"\"\"\n",
    "    \n",
    "    match_rewrite_prompt = match_rewrite_prompt_template.format(user_input_step_to_match=USER_INPUT_STEP, \n",
    "                                         user_input_available_steps=USER_INPUT_AVAILABLE_STEPS)\n",
    "    \n",
    "    import json \n",
    "    res = inference(match_rewrite_prompt, max_generated_tokens)[\"content\"]\n",
    "    res = res.replace(\"\\\\\", \"\\\\\\\\\") # escape the backslashes\n",
    "    pprint(f\"Plain result: {res}\")\n",
    "    \n",
    "    \n",
    "    # Loading in json\n",
    "    res_json = None\n",
    "    try:\n",
    "        dir = json.loads(res)\n",
    "        res_json = dir\n",
    "    except Exception as e:\n",
    "        pprint(f\"exception occured while reading the output: {e}\")\n",
    "    \n",
    "    \n",
    "    step_found_str = res_json.get(\"step_found\", None)\n",
    "    \n",
    "    if step_found_str is not None:\n",
    "        prompt_matching_params = prompt_matching_params_template.format(user_input_step=USER_INPUT_STEP, step_str=step_found_str)\n",
    "        res22 = inference(prompt_matching_params, max_generated_tokens)[\"content\"]\n",
    "        res22 = res22.replace(\"\\\\\", \"\\\\\\\\\") # escape the backslashes\n",
    "        \n",
    "        #RESPONSE_TAG = \"Response:\"\n",
    "        #resp_json_begin_index = res22.find(RESPONSE_TAG) + len(RESPONSE_TAG)\n",
    "        resp_json_begin_index = res22.find(\"{\")\n",
    "        resp_json_end_index = res22.rfind(\"}\")\n",
    "        \n",
    "        if resp_json_begin_index !=-1 and resp_json_end_index!= -1:\n",
    "            resp_json_str = res22[resp_json_begin_index : resp_json_end_index + 1]\n",
    "            \n",
    "            try:\n",
    "                resp_json = json.loads(resp_json_str)\n",
    "                pprint(resp_json)\n",
    "\n",
    "                return (True, resp_json)\n",
    "            except Exception as e:\n",
    "                msg = f\"Error {e} when parsing for parameters:\\n{resp_json_str}\"\n",
    "                pprint(msg)\n",
    "                \n",
    "                return (False, msg)\n",
    "    \n",
    "    \n",
    "    msg = \"The model didn't find any match. The raw output is {temp_resp}\".format(temp_resp=res22)\n",
    "    pprint(msg)\n",
    "    return (False, msg)\n",
    "\n",
    "def match_input_step_to_set(self, \n",
    "                            USER_INPUT_STEP: str, \n",
    "                            max_generated_tokens : int = 1024) -> Tuple[bool, str]:\n",
    "    \n",
    "    # TODO: take from file with source code \n",
    "    USER_INPUT_AVAILABLE_STEPS = \"\"\"@given(\"the car has (?P<engine_power>\\d+) kw, weighs (?P<weight>\\d+) kg, has a drag coefficient of (?P<drag>[\\.\\d]+)\")\n",
    "    \n",
    "    @given(\"a frontal area of (?P<area>.+) m\\^2\")\n",
    "    \n",
    "    @when(\"I accelerate to (?P<speed>\\d+) km/h\")\n",
    "    \n",
    "    @then(\"the time should be within (?P<precision>[\\d\\.]+)s of (?P<time>[\\d\\.]+)s\")\n",
    "    \n",
    "    @given(\"that the car is moving at (?P<speed>\\d+) m/s\")\n",
    "    \n",
    "    @when(\"I brake at (?P<brake_force>\\d+)% force\")\n",
    "    \n",
    "    @step(\"(?P<seconds>\\d+) seconds? pass(?:es)?\")\n",
    "    \n",
    "    @then(\"I should have traveled less than (?P<distance>\\d+) meters\")\n",
    "    \n",
    "    @given(\"that the car's heading is (?P<heading>\\d+) deg\")\n",
    "    \n",
    "    @when(\"I turn (?P<direction>left|right) at a yaw rate of (?P<rate>\\d+) deg/sec for (?P<duration>\\d+) seconds\")\n",
    "    \n",
    "    @then(\"the car's heading should be (?P<heading>\\d+) deg\")\"\"\"\n",
    "    \n",
    "    is_matched, resp = _match_input_step_to_set(self, USER_INPUT_STEP, USER_INPUT_AVAILABLE_STEPS, max_generated_tokens=1024)\n",
    "\n",
    "    return is_matched, resp \n",
    "\n",
    "\n",
    "is_matched, resp = match_input_step_to_set(None, USER_INPUT_STEP = \"A drag of 123, a mass of 12345 kg, and an engine of 124kw the Yoda's vehicle has!\")\n",
    "pprint(f\"The model matched the step: {is_matched}\\n \\\n",
    "            Response: {resp}\\n\")\n",
    "\n"
   ]
  },
  {
   "cell_type": "code",
   "execution_count": 23,
   "id": "c425b3f4",
   "metadata": {},
   "outputs": [
    {
     "data": {
      "text/plain": [
       "{'found': True,\n",
       " 'step_found': 'the car has (?P<engine_power>\\\\d+) kw, weighs (?P<weight>\\\\d+) kg, has a drag coefficient of (?P<drag>[\\\\.\\\\d]+)'}"
      ]
     },
     "execution_count": 23,
     "metadata": {},
     "output_type": "execute_result"
    }
   ],
   "source": [
    "inp = '{\\n  \"found\": true,\\n  \"step_found\":  \"the car has (?P<engine_power>\\\\d+) kw, weighs (?P<weight>\\\\d+) kg, has a drag coefficient of (?P<drag>[\\\\.\\\\d]+)\"\\n}'\n",
    "\n",
    "inp = inp.replace(\"\\\\\", \"\\\\\\\\\")\n",
    "\n",
    "#r = inp[66:]\n",
    "#print(r)\n",
    "\n",
    "import json\n",
    "json.loads(inp, strict=False)"
   ]
  },
  {
   "cell_type": "code",
   "execution_count": null,
   "id": "424127768c801f40",
   "metadata": {},
   "outputs": [],
   "source": [
    "\n"
   ]
  }
 ],
 "metadata": {
  "kernelspec": {
   "display_name": "Python 3 (ipykernel)",
   "language": "python",
   "name": "python3"
  },
  "language_info": {
   "codemirror_mode": {
    "name": "ipython",
    "version": 3
   },
   "file_extension": ".py",
   "mimetype": "text/x-python",
   "name": "python",
   "nbconvert_exporter": "python",
   "pygments_lexer": "ipython3",
   "version": "3.11.7"
  }
 },
 "nbformat": 4,
 "nbformat_minor": 5
}
