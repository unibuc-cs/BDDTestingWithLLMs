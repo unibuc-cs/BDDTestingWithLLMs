import transformers
import torch
from typing import List, Dict
from pprint import pprint
model_id = "meta-llama/Meta-Llama-3-8B-Instruct"

pipeline = transformers.pipeline(
    "text-generation",
    model=model_id,
    model_kwargs={"torch_dtype": torch.bfloat16},
    device_map="auto",
)

messages = [
    {"role": "system", "content": "You are a BDD testing expert that can write scenarios using Gherkin language, Python language and behave library"},
    {"role": "user", "content": "Show me a scenario for testing Mario like games"},
]

terminators = [
    pipeline.tokenizer.eos_token_id,
    pipeline.tokenizer.convert_tokens_to_ids("<|eot_id|>")
]

def inference(prompt: str, max_tokens: int ) -> str:
    messages[-1]["content"] = prompt
    outputs = pipeline(
        messages,
        max_new_tokens=max_tokens,
        eos_token_id=terminators,
        do_sample=True,
        temperature=0.1,
        top_p=0.9,
    )
    
    return outputs[0]["generated_text"][-1]







res = inference("Say a joke", 1024)["content"].replace("\\n","")
pprint(res)


USE_DEBUG = False 

DEBUG_TEXT = "Do not provide any other information or examples"  if USE_DEBUG else 0

prompt="""Given the below Gherkin available steps, check if any can match the input step. 

Use Json syntax for response. Use the following format if any step can be matched:
"res" : {
  "found": true,
  "step_found":  "the step you found closest"
}

If no available option is OK, then use:
"res": {
    "found": false,
}

Do not provide any other information or examples.

### Input step: 
@given(A drag of 123, a mass of 12345 kg, and an engine power of 124kw the Yoda's vehicle has!)

### Available steps:
@given("the car has (?P<engine_power>\d+) kw, weighs (?P<weight>\d+) kg, has a drag coefficient of (?P<drag>[\.\d]+)")

@given("a frontal area of (?P<area>.+) m\^2")

@when("I accelerate to (?P<speed>\d+) km/h")

@then("the time should be within (?P<precision>[\d\.]+)s of (?P<time>[\d\.]+)s")

@given("that the car is moving at (?P<speed>\d+) m/s")

@when("I brake at (?P<brake_force>\d+)% force")

@step("(?P<seconds>\d+) seconds? pass(?:es)?")

@then("I should have traveled less than (?P<distance>\d+) meters")

@given("that the car's heading is (?P<heading>\d+) deg")

@when("I turn (?P<direction>left|right) at a yaw rate of (?P<rate>\d+) deg/sec for (?P<duration>\d+) seconds")

@then("the car's heading should be (?P<heading>\d+) deg")


"""


import json 
res = inference(prompt, 1024)["content"]
pprint(f"Plain result: {res}")




res2 = res
print(res2)
# Loading in json
try:
    dir = json.loads(res2)
    pprint(dir)
except Exception as e:
    pprint(f"exception occured while reading the output: {e}")




prompt="""Can you match the parameters in the input text step with the target step ?

Example:
### Input step: The plane has a travel speed of 123 km/h and a lenght of 500 m
### Output step: @given(A plane that has a (?P<speed>\d+) km/h, length (?P<size>\d+) m
Response:
speed = 123 km/h
size = 500 m

Question:
### Input step: A drag of 123, a mass of 12345 kg, and an engine of 124kw the Yoda's vehicle has!
### Output step: @given("the car has (?P<engine_power>\d+) kw, weighs (?P<weight>\d+) kg, has a drag coefficient of (?P<drag>[\.\d]+)").
Response:


"""

pprint(inference(prompt, 1024)["content"].replace("\\n",""))




