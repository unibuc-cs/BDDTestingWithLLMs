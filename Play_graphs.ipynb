{
 "cells": [
  {
   "cell_type": "code",
   "execution_count": 22,
   "metadata": {},
   "outputs": [
    {
     "name": "stdout",
     "output_type": "stream",
     "text": [
      "The autoreload extension is already loaded. To reload it, use:\n",
      "  %reload_ext autoreload\n"
     ]
    },
    {
     "name": "stderr",
     "output_type": "stream",
     "text": [
      "[autoreload of BDDConvState failed: Traceback (most recent call last):\n",
      "  File \"/home/ciprian/anaconda3/lib/python3.11/site-packages/IPython/extensions/autoreload.py\", line 276, in check\n",
      "    superreload(m, reload, self.old_objects)\n",
      "  File \"/home/ciprian/anaconda3/lib/python3.11/site-packages/IPython/extensions/autoreload.py\", line 475, in superreload\n",
      "    module = reload(module)\n",
      "             ^^^^^^^^^^^^^^\n",
      "  File \"/home/ciprian/anaconda3/lib/python3.11/importlib/__init__.py\", line 169, in reload\n",
      "    _bootstrap._exec(spec, module)\n",
      "  File \"<frozen importlib._bootstrap>\", line 621, in _exec\n",
      "  File \"<frozen importlib._bootstrap_external>\", line 936, in exec_module\n",
      "  File \"<frozen importlib._bootstrap_external>\", line 1074, in get_code\n",
      "  File \"<frozen importlib._bootstrap_external>\", line 1004, in source_to_code\n",
      "  File \"<frozen importlib._bootstrap>\", line 241, in _call_with_frames_removed\n",
      "  File \"/mnt/c/Users/cipri/OneDrive - University of Bucharest, Faculty of Mathematics and Computer Science/WORK_PROGRESS/BDD and LLM/Our/BDDConvState.py\", line 236\n",
      "    ConvStepType.ASK_FOR_USER_CONFIRMATION_SCENARIO_EDIT: AssistantFixedMessage.ask_for_user_confirmation_scenario_edit,\n",
      "                                                                                                                       ^\n",
      "SyntaxError: invalid syntax\n",
      "]\n"
     ]
    }
   ],
   "source": [
    "%load_ext autoreload\n",
    "%autoreload 2\n",
    "\n",
    "from BDDConvState import *\n",
    "from enum import StrEnum\n",
    "from IPython.display import Image, display\n",
    "from langgraph.graph import START, END, StateGraph\n",
    "from langgraph.checkpoint.memory import MemorySaver\n",
    "#from langchain_core.messages import AIMessage, HumanMessage, SystemMessage\n",
    "\n",
    "### TODO outstanding \n",
    "\n",
    "### 1. Continue the LLM analysis node \n",
    "### 2. Route the conversation based on the LLM analysis node in a router function which interprets the intention and the current state of the conversation\n",
    "### 3. Have a TypedDict for the LLM analysis intention and the state\n",
    "### 4. Lower case the user input by defapt and provide another variable for the raw user input\n",
    "\n",
    "from BDDToLLM import GherkinStepType\n",
    "from BDDConvState import LLMAnalysisIntention,LLMIntentionAnalysisResult\n",
    "\n",
    "\n"
   ]
  },
  {
   "cell_type": "code",
   "execution_count": 9,
   "metadata": {},
   "outputs": [],
   "source": [
    "# These are the conversation nodes that we will use to route the conversation\n",
    "class ConvNode(StrEnum):\n",
    "    #START = \"START\"\n",
    "    #END = \"END\"\n",
    "    WRITE_ASSISTANT_MSG =\"write_assistant_msg\" # This is the main node for writing messages from the assistant\n",
    "    USER_INPUT = \"user_input\" # This is the main node for user input\n",
    "    LLM_Check = \"llm_check\"\n",
    "    #SCENARIO_DEF = \"scenario_def\"\n",
    "    #SCENARIO_OUT_PATH = \"scenarioOutPath\"\n",
    "    #SCENARIO_CODE_PATH = \"scenarioCodePath\"\n",
    "    #SCENARIO_ADD_STEP = \"scenarioAddStep\"\n",
    "    SCENARIO_ADD_EDIT = \"scenarioAddEditStep\"\n",
    "    ADD_EDIT_BDD_STEP = \"addEditBDDStep\"\n",
    "    BDD_TEST_MANAGEMENT = \"bddTestManagement\"\n",
    "    \n",
    "    #SUB_GRAPH_SCENARIO_EDIT = \"sub_graph_scenario_edit\"\n",
    "    SUB_GRAPH_EDIT = \"sub_graph_edit\" # We use this for editing steps and scenarios\n",
    "    SUB_GRAPH_ADD = \"sub_graph_add\" # We use this for adding steps\n",
    "    SUB_GRAPH_SCENARIO_DEF = \"sub_graph_scenario_def\"\n",
    "    SUB_GRAPH_SAVE_LOAD_DISCARD = \"sub_graph_save_load_discard\"\n",
    "    "
   ]
  },
  {
   "cell_type": "code",
   "execution_count": 20,
   "metadata": {},
   "outputs": [],
   "source": [
    "# Dummy tests to check the validation of the messages\n",
    "analysis_intention = LLMIntentionAnalysisResult(intention=LLMAnalysisIntention.LLM_INTENTION_SAVE_SCENARIO)\n",
    "# analysis_intention = LLMIntentionAnalysisResult(intention=LLMAnalysisIntention.LLM, BDD_STEP_TYPE=GherkinStepType.GIVEN,\n",
    "#                                                 SCENARIO_EDIT_TYPE=ConvStepType.SCENARIO_DEF_PART3_CODE_PATH,\n",
    "#                                                 raw_user_input=\"I want to save the scenario\")\n",
    "\n"
   ]
  },
  {
   "cell_type": "code",
   "execution_count": 21,
   "metadata": {},
   "outputs": [],
   "source": [
    "# All the function that are called on each node invocation defined here\n",
    "# -----------------------------------------------------------\n",
    "def write_assistant_msg(state: ConversationState):\n",
    "    print(\"write_assistant_msg\")\n",
    "    \n",
    "    curr_assist_msg = state.get_current_step_message()\n",
    "    print(curr_assist_msg)\n",
    "    \n",
    "    return state\n",
    "\n",
    "def user_input(state: ConversationState):\n",
    "    print(\"user_input\")\n",
    "    \n",
    "    # TODO: stream user input\n",
    "    user_input = \"placeholder user input\"\n",
    "    user_input = user_input.strip()\n",
    "    return {'user_input_lowercased': user_input.lower(), \n",
    "            'user_input_casesensitive': user_input}\n",
    "            \n",
    "\n",
    "def llm_analysis_node (state: ConversationState):    \n",
    "    return state.analyze_user_intention()     \n",
    "    \n",
    "    \n",
    "    \n",
    "def llm_check(state: ConversationState):\n",
    "    \n",
    "    next_node = None\n",
    "    \n",
    "    # Local function to get the next node based on the info from the current step if the current sub-graph could end or not\n",
    "    def default_get_next_node(could_end: bool, _next_node: ConvNode = ConvNode.WRITE_ASSISTANT_MSG):\n",
    "        if could_end:\n",
    "            next_node = END\n",
    "        else:\n",
    "            next_node = _next_node\n",
    "        \n",
    "    if state.get_current_step_type() == ConvStepType.SCENARIO_DEF_PART1_SCENARIO_DEF:\n",
    "        # TODO - need to use the tool function\n",
    "        state.user_scenario = state.user_input\n",
    "        could_end = state.check_transition_to_next_step(ConvStepType.SCENARIO_DEF_PART2_SCENARIO_OUTPUTPATH)\n",
    "        next_node = default_get_next_node(could_end)\n",
    "    \n",
    "    elif state.get_current_step_type() == ConvStepType.SCENARIO_DEF_PART2_SCENARIO_OUTPUTPATH:\n",
    "        # TODO - need to use the tool function\n",
    "        state.test_case_path = state.user_input \n",
    "        could_end = state.check_transition_to_next_step(ConvStepType.SCENARIO_DEF_PART3_CODE_PATH)\n",
    "        next_node = default_get_next_node(could_end)\n",
    "\n",
    "    elif state.get_current_step_type() == ConvStepType.SCENARIO_DEF_PART3_CODE_PATH:\n",
    "        could_end = state.check_transition_to_next_step(ConvStepType.GIVEN)        \n",
    "        next_node = default_get_next_node(could_end)\n",
    "        \n",
    "    # This will reroute to the one of the steps above but keeping the rerouting previous step and state\n",
    "    elif state.get_current_step_type() == ConvStepType.SCENARIO_DEF_EDIT_SELECTION:        \n",
    "        # TODO: SHOULD ASK LLM but for now we just assume that the user wants to edit the scenario            \n",
    "        if 'code' in state.user_input_lowercased:\n",
    "            _ = state.check_transition_to_next_step(ConvStepType.SCENARIO_DEF_PART3_CODE_PATH)\n",
    "            next_node = ConvNode.WRITE_ASSISTANT_MSG\n",
    "            \n",
    "        elif any(['path', 'output', 'out', 'save'] in state.user_input_lowercased):\n",
    "            _ = state.check_transition_to_next_step(ConvStepType.SCENARIO_DEF_PART2_SCENARIO_OUTPUTPATH)\n",
    "            next_node = ConvNode.WRITE_ASSISTANT_MSG\n",
    "        elif any(['scenario', 'description'] in state.user_input_lowercased):\n",
    "            _ = state.check_transition_to_next_step(ConvStepType.SCENARIO_DEF_PART1_SCENARIO_DEF)\n",
    "            next_node = ConvNode.WRITE_ASSISTANT_MSG\n",
    "        else:\n",
    "            _ = state.check_transition_to_next_step(ConvStepType.ASSISTANT_DOES_NOT_UNDERSTAND)\n",
    "            next_node = ConvNode.WRITE_ASSISTANT_MSG    \n",
    "         \n",
    "    assert next_node is not None, f\"llm_check: next_node is None, current_step_type: {state.get_current_step_type()}\"\n",
    "    return state\n",
    "\n",
    "# def scenarioDefStep(state: ConversationState):\n",
    "#     print(\"scenario_def\")\n",
    "#     return state\n",
    "\n",
    "def scenarioAddEditStep(state: ConversationState):\n",
    "    print(\"scenarioAddStep\")\n",
    "    return state\n",
    "\n",
    "# def scenarioEditStep(state: ConversationState):\n",
    "#     print(\"scenarioEditStep\")\n",
    "#     return state\n",
    "\n",
    "def addEditBDDStep(state: ConversationState):\n",
    "    print(\"addEditBDDStep\")\n",
    "    return state\n",
    "\n",
    "# Discard, load, save\n",
    "def bdd_test_management(state: ConversationState):\n",
    "    print(\"bdd_test_management\")\n",
    "    return state\n",
    "\n",
    "# -----------------------------------------------------------\n"
   ]
  },
  {
   "cell_type": "code",
   "execution_count": 28,
   "metadata": {},
   "outputs": [
    {
     "ename": "ValueError",
     "evalue": "Node `user_input` is not reachable",
     "output_type": "error",
     "traceback": [
      "\u001b[0;31m---------------------------------------------------------------------------\u001b[0m",
      "\u001b[0;31mValueError\u001b[0m                                Traceback (most recent call last)",
      "Cell \u001b[0;32mIn[28], line 12\u001b[0m\n\u001b[1;32m      9\u001b[0m sub_graph_scenario_builder\u001b[38;5;241m.\u001b[39madd_node(ConvNode\u001b[38;5;241m.\u001b[39mWRITE_ASSISTANT_MSG, write_assistant_msg)\n\u001b[1;32m     11\u001b[0m \u001b[38;5;66;03m# Now compile graph\u001b[39;00m\n\u001b[0;32m---> 12\u001b[0m sub_graph_scenario \u001b[38;5;241m=\u001b[39m sub_graph_scenario_builder\u001b[38;5;241m.\u001b[39mcompile() \n\u001b[1;32m     13\u001b[0m display(Image(sub_graph_scenario\u001b[38;5;241m.\u001b[39mget_graph()\u001b[38;5;241m.\u001b[39mdraw_mermaid_png()))\n",
      "File \u001b[0;32m~/anaconda3/lib/python3.11/site-packages/langgraph/graph/state.py:431\u001b[0m, in \u001b[0;36mStateGraph.compile\u001b[0;34m(self, checkpointer, store, interrupt_before, interrupt_after, debug)\u001b[0m\n\u001b[1;32m    428\u001b[0m interrupt_after \u001b[38;5;241m=\u001b[39m interrupt_after \u001b[38;5;129;01mor\u001b[39;00m []\n\u001b[1;32m    430\u001b[0m \u001b[38;5;66;03m# validate the graph\u001b[39;00m\n\u001b[0;32m--> 431\u001b[0m \u001b[38;5;28mself\u001b[39m\u001b[38;5;241m.\u001b[39mvalidate(\n\u001b[1;32m    432\u001b[0m     interrupt\u001b[38;5;241m=\u001b[39m(\n\u001b[1;32m    433\u001b[0m         (interrupt_before \u001b[38;5;28;01mif\u001b[39;00m interrupt_before \u001b[38;5;241m!=\u001b[39m \u001b[38;5;124m\"\u001b[39m\u001b[38;5;124m*\u001b[39m\u001b[38;5;124m\"\u001b[39m \u001b[38;5;28;01melse\u001b[39;00m []) \u001b[38;5;241m+\u001b[39m interrupt_after\n\u001b[1;32m    434\u001b[0m         \u001b[38;5;28;01mif\u001b[39;00m interrupt_after \u001b[38;5;241m!=\u001b[39m \u001b[38;5;124m\"\u001b[39m\u001b[38;5;124m*\u001b[39m\u001b[38;5;124m\"\u001b[39m\n\u001b[1;32m    435\u001b[0m         \u001b[38;5;28;01melse\u001b[39;00m []\n\u001b[1;32m    436\u001b[0m     )\n\u001b[1;32m    437\u001b[0m )\n\u001b[1;32m    439\u001b[0m \u001b[38;5;66;03m# prepare output channels\u001b[39;00m\n\u001b[1;32m    440\u001b[0m output_channels \u001b[38;5;241m=\u001b[39m (\n\u001b[1;32m    441\u001b[0m     \u001b[38;5;124m\"\u001b[39m\u001b[38;5;124m__root__\u001b[39m\u001b[38;5;124m\"\u001b[39m\n\u001b[1;32m    442\u001b[0m     \u001b[38;5;28;01mif\u001b[39;00m \u001b[38;5;28mlen\u001b[39m(\u001b[38;5;28mself\u001b[39m\u001b[38;5;241m.\u001b[39mschemas[\u001b[38;5;28mself\u001b[39m\u001b[38;5;241m.\u001b[39moutput]) \u001b[38;5;241m==\u001b[39m \u001b[38;5;241m1\u001b[39m\n\u001b[0;32m   (...)\u001b[0m\n\u001b[1;32m    448\u001b[0m     ]\n\u001b[1;32m    449\u001b[0m )\n",
      "File \u001b[0;32m~/anaconda3/lib/python3.11/site-packages/langgraph/graph/graph.py:394\u001b[0m, in \u001b[0;36mGraph.validate\u001b[0;34m(self, interrupt)\u001b[0m\n\u001b[1;32m    392\u001b[0m \u001b[38;5;28;01mfor\u001b[39;00m node \u001b[38;5;129;01min\u001b[39;00m \u001b[38;5;28mself\u001b[39m\u001b[38;5;241m.\u001b[39mnodes:\n\u001b[1;32m    393\u001b[0m     \u001b[38;5;28;01mif\u001b[39;00m node \u001b[38;5;129;01mnot\u001b[39;00m \u001b[38;5;129;01min\u001b[39;00m all_targets:\n\u001b[0;32m--> 394\u001b[0m         \u001b[38;5;28;01mraise\u001b[39;00m \u001b[38;5;167;01mValueError\u001b[39;00m(\u001b[38;5;124mf\u001b[39m\u001b[38;5;124m\"\u001b[39m\u001b[38;5;124mNode `\u001b[39m\u001b[38;5;132;01m{\u001b[39;00mnode\u001b[38;5;132;01m}\u001b[39;00m\u001b[38;5;124m` is not reachable\u001b[39m\u001b[38;5;124m\"\u001b[39m)\n\u001b[1;32m    395\u001b[0m \u001b[38;5;28;01mfor\u001b[39;00m target \u001b[38;5;129;01min\u001b[39;00m all_targets:\n\u001b[1;32m    396\u001b[0m     \u001b[38;5;28;01mif\u001b[39;00m target \u001b[38;5;129;01mnot\u001b[39;00m \u001b[38;5;129;01min\u001b[39;00m \u001b[38;5;28mself\u001b[39m\u001b[38;5;241m.\u001b[39mnodes \u001b[38;5;129;01mand\u001b[39;00m target \u001b[38;5;241m!=\u001b[39m END:\n",
      "\u001b[0;31mValueError\u001b[0m: Node `user_input` is not reachable"
     ]
    }
   ],
   "source": [
    "\n",
    "memory = MemorySaver()\n",
    "builder = StateGraph(ConversationState, memory)\n",
    "\n",
    "# THis is the graph handling the scenario editing, adding the source code, references, paths to the output etc.\n",
    "# -----------------------------------------------------------\n",
    "sub_graph_scenario_builder = StateGraph(ConversationState, memory)\n",
    "sub_graph_scenario_builder.add_node(ConvNode.USER_INPUT, user_input)\n",
    "#sub_graph_scenario_builder.add_node(ConvNode.SCENARIO_EDIT, scenarioEditStep)\n",
    "sub_graph_scenario_builder.add_node(ConvNode.SCENARIO_ADD_EDIT, scenarioAddEditStep)\n",
    "#sub_graph_builder.add_node(ConvNode.SCENARIO_ADD_STEP)\n",
    "sub_graph_scenario_builder.add_node(ConvNode.LLM_Check, llm_check)\n",
    "sub_graph_scenario_builder.add_node(ConvNode.WRITE_ASSISTANT_MSG, write_assistant_msg)\n",
    "\n",
    "sub_graph_scenario_builder.add_edge(START, ConvNode.WRITE_ASSISTANT_MSG)\n",
    "sub_graph_scenario_builder.add_edge(ConvNode.WRITE_ASSISTANT_MSG, ConvNode.USER_INPUT)\n",
    "sub_graph_scenario_builder.add_edge(ConvNode.USER_INPUT, ConvNode.LLM_Check)\n",
    "sub_graph_scenario_builder.add_conditional_edges(ConvNode.LLM_Check, {ConvNode.WRITE_ASSISTANT_MSG, END})\n",
    "\n",
    "# Now compile graph\n",
    "sub_graph_scenario = sub_graph_scenario_builder.compile() \n",
    "display(Image(sub_graph_scenario.get_graph().draw_mermaid_png()))\n",
    "    "
   ]
  },
  {
   "cell_type": "code",
   "execution_count": null,
   "metadata": {},
   "outputs": [],
   "source": [
    "\n",
    "# This is the graph handling the adding of steps\n",
    "sub_graph_bddsteps_builder = StateGraph(ConversationState, memory)\n",
    "sub_graph_bddsteps_builder.add_node(ConvNode.ADD_EDIT_BDD_STEP, addEditBDDStep)\n",
    "sub_graph_bddsteps_builder.add_node(ConvNode.WRITE_ASSISTANT_MSG, write_assistant_msg)\n",
    "sub_graph_bddsteps_builder.add_node(ConvNode.LLM_Check)\n",
    "sub_graph_scenario_builder.add_node(ConvNode.ADD_EDIT_BDD_STEP, addEditBDDStep)\n",
    "\n",
    "# Now compile and render\n",
    "sub_graph_bddsteps = sub_graph_bddsteps_builder.compile()\n",
    "display(Image(sub_graph_bddsteps.get_graph().draw_mermaid_png()))"
   ]
  },
  {
   "cell_type": "code",
   "execution_count": null,
   "metadata": {},
   "outputs": [],
   "source": []
  },
  {
   "cell_type": "code",
   "execution_count": null,
   "metadata": {},
   "outputs": [],
   "source": [
    "main_graph_builder = StateGraph(ConversationState, memory)\n",
    "#main_graph.add_node(ConvNode.START) # Appears that both are added by default\n",
    "#main_graph.add_node(ConvNode.END)\n",
    "main_graph_builder.add_node(ConvNode.USER_INPUT)\n",
    "main_graph_builder.add_node(ConvNode.SUB_GRAPH_EDIT, sub_graph_scenario_builder."
   ]
  },
  {
   "cell_type": "code",
   "execution_count": null,
   "metadata": {},
   "outputs": [],
   "source": [
    "def write_step(state: ConversationState):\n",
    "    print(f\"The current state is: {state.get_current_step_type()}\")\n",
    "    print(state.get_current_step_message()) # this is the message that the user sees\n",
    "    return \n",
    "    "
   ]
  },
  {
   "cell_type": "code",
   "execution_count": 5,
   "metadata": {},
   "outputs": [
    {
     "ename": "NameError",
     "evalue": "name 'write_step' is not defined",
     "output_type": "error",
     "traceback": [
      "\u001b[0;31m---------------------------------------------------------------------------\u001b[0m",
      "\u001b[0;31mNameError\u001b[0m                                 Traceback (most recent call last)",
      "Cell \u001b[0;32mIn[5], line 1\u001b[0m\n\u001b[0;32m----> 1\u001b[0m builder\u001b[38;5;241m.\u001b[39madd_node(\u001b[38;5;124m\"\u001b[39m\u001b[38;5;124mWriteStep\u001b[39m\u001b[38;5;124m\"\u001b[39m, write_step)\n\u001b[1;32m      2\u001b[0m builder\u001b[38;5;241m.\u001b[39madd_node(\u001b[38;5;124m\"\u001b[39m\u001b[38;5;124muser_input\u001b[39m\u001b[38;5;124m\"\u001b[39m, user_input)\n\u001b[1;32m      3\u001b[0m builder\u001b[38;5;241m.\u001b[39madd_node(\u001b[38;5;124m\"\u001b[39m\u001b[38;5;124mllm_check_input\u001b[39m\u001b[38;5;124m\"\u001b[39m, llm_check_input)\n",
      "\u001b[0;31mNameError\u001b[0m: name 'write_step' is not defined"
     ]
    }
   ],
   "source": [
    "builder.add_node(\"WriteStep\", write_step)\n",
    "builder.add_node(\"user_input\", user_input)\n",
    "builder.add_node(\"llm_check_input\", llm_check_input)\n",
    "builder.add_node(\"scenarioDef\", scenarioDef)\n",
    "builder.add_node(\"scenarioOutPath\", scenarioOutPath)\n",
    "builder.add_node(\"scenarioCodePath\", scenarioCodePath)\n",
    "builder.add_node(\"add_step\", add_step)\n",
    "builder.add_node(\"show_test\", show_test)\n",
    "builder.add_node(\"save_test\", save_test)\n",
    "builder.add_node(\"discard_test\", discard_test)\n",
    "builder.add_node(\"cleanup\", cleanup)\n",
    "builder.add_node(\"call_tool\", call_tool)\n"
   ]
  }
 ],
 "metadata": {
  "kernelspec": {
   "display_name": "base",
   "language": "python",
   "name": "python3"
  },
  "language_info": {
   "codemirror_mode": {
    "name": "ipython",
    "version": 3
   },
   "file_extension": ".py",
   "mimetype": "text/x-python",
   "name": "python",
   "nbconvert_exporter": "python",
   "pygments_lexer": "ipython3",
   "version": "3.11.7"
  }
 },
 "nbformat": 4,
 "nbformat_minor": 2
}
